{
 "cells": [
  {
   "cell_type": "markdown",
   "metadata": {},
   "source": [
    "<div align=\"center\"><img src=\"./images/DLI_Header.png\"></div>"
   ]
  },
  {
   "cell_type": "markdown",
   "metadata": {},
   "source": [
    "# RAPIDS Machine Learning"
   ]
  },
  {
   "cell_type": "markdown",
   "metadata": {},
   "source": [
    "In this section of the workshop you will utilize the data you prepared in the first section with several GPU-accelerated machine learning algorithms."
   ]
  },
  {
   "cell_type": "markdown",
   "metadata": {},
   "source": [
    "## Presentation"
   ]
  },
  {
   "cell_type": "markdown",
   "metadata": {},
   "source": [
    "Please execute the cell below to watch the instructor presentation before proceeding with the rest of the notebook. Note, you may have already watched this video while waiting for the GPU environment to load, in which case you can proceed with the rest of the notebook."
   ]
  },
  {
   "cell_type": "code",
   "execution_count": null,
   "metadata": {},
   "outputs": [],
   "source": [
    "%%html\n",
    "<video width=\"800\" controls>\n",
    "  <source src=\"https://dli-lms.s3.us-east-1.amazonaws.com/assets/s-ds-01-v1/02_01.mp4\" type=\"video/mp4\">\n",
    "</video>"
   ]
  },
  {
   "cell_type": "markdown",
   "metadata": {},
   "source": [
    "## Section 2 Table of Contents"
   ]
  },
  {
   "cell_type": "markdown",
   "metadata": {},
   "source": [
    "**2-01_intro.ipynb**: This notebook.\n",
    "\n",
    "**2-02_population_viz.ipynb**: Visualize the population data.\n",
    "\n",
    "**2-03_k-means.ipynb**: Optimize supply depot locations.\n",
    "\n",
    "**2-04_DBSCAN.ipynb**: Identify clusters of infected people.\n",
    "\n",
    "**2-05_logistic_regression.ipynb**: Estimate probability of infection for population members.\n",
    "\n",
    "**2-06_knn.ipynb**: Find the nearest road nodes to hospitals.\n",
    "\n",
    "**2-07_kmeans_dask.ipynb**: Find population clusters with a distributed algorithm.\n",
    "\n",
    "**2-08_xgboost.ipynb**: Estimate probability of infection for population members.\n",
    "\n",
    "**2-09_cugraph.ipynb:** Find the shortest path to hospitals."
   ]
  },
  {
   "cell_type": "markdown",
   "metadata": {},
   "source": [
    "## Next"
   ]
  },
  {
   "cell_type": "markdown",
   "metadata": {},
   "source": [
    "Please proceed to the [next notebook](2-02_population_viz.ipynb)."
   ]
  }
 ],
 "metadata": {
  "kernelspec": {
   "display_name": "Python 3",
   "language": "python",
   "name": "python3"
  },
  "language_info": {
   "codemirror_mode": {
    "name": "ipython",
    "version": 3
   },
   "file_extension": ".py",
   "mimetype": "text/x-python",
   "name": "python",
   "nbconvert_exporter": "python",
   "pygments_lexer": "ipython3",
   "version": "3.7.8"
  }
 },
 "nbformat": 4,
 "nbformat_minor": 4
}
