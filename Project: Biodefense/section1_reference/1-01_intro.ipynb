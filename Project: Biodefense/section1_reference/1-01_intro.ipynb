{
 "cells": [
  {
   "cell_type": "markdown",
   "metadata": {},
   "source": [
    "<div align=\"center\"><img src=\"./images/DLI_Header.png\"></div>"
   ]
  },
  {
   "cell_type": "markdown",
   "metadata": {},
   "source": [
    "# Fundamentals of Accelerated Data Science with RAPIDS"
   ]
  },
  {
   "cell_type": "markdown",
   "metadata": {},
   "source": [
    "In this workshop you will use RAPIDS, a platform enabling end to end GPU-accelerated data science, to help stave off a simulated epidemic affecting the entire UK population, using population-scale data. In service of this goal, this workshop is divided into 3 sections:\n",
    "\n",
    "- *GPU-Accelerated Data Manipulation*\n",
    "- *GPU-Accelerated Machine Learning*\n",
    "- *Project: Biodefense*"
   ]
  },
  {
   "cell_type": "markdown",
   "metadata": {},
   "source": [
    "## GPU-Accelerated Data Manipulation"
   ]
  },
  {
   "cell_type": "markdown",
   "metadata": {},
   "source": [
    "In this section you will interact with several data sets, including datasets larger than a single GPU's memory, to transform UK population data, hospital data, and road network data in preparation for a variety of machine learning algorithms."
   ]
  },
  {
   "cell_type": "markdown",
   "metadata": {},
   "source": [
    "## GPU-Accelerated Machine Learning"
   ]
  },
  {
   "cell_type": "markdown",
   "metadata": {},
   "source": [
    "In this section you will utilize a variety of machine learning algorithms - K-means, DBSCAN, logistic regression, K-nearest neighbor, and single-source shortest path - to analyze ideal supply locations, clusters of infected people, probabilities of infection, nearest hospitals, and fastest routes to medical care."
   ]
  },
  {
   "cell_type": "markdown",
   "metadata": {},
   "source": [
    "## Project: Biodefense"
   ]
  },
  {
   "cell_type": "markdown",
   "metadata": {},
   "source": [
    "In this section you will utilize everything you learned in the first two sections to stave off, over several simulated days, an epidemic affecting the entire UK population."
   ]
  },
  {
   "cell_type": "markdown",
   "metadata": {},
   "source": [
    "## Table of Contents for Section 1"
   ]
  },
  {
   "cell_type": "markdown",
   "metadata": {},
   "source": [
    "**1-01_intro.ipynb**: This notebook.\n",
    "\n",
    "**1-02_environment.ipynb**: Learn your interactive coding environment.\n",
    "\n",
    "**1-03_cudf_basics.ipynb**: Begin learning GPU-accelerated dataframe manipulation with cuDF.\n",
    "\n",
    "**1-04_grouping_sorting.ipynb**: Learn more advanced cuDF operations.\n",
    "\n",
    "**1-05_grid_converter.ipynb**: Advance your cuDF skills and use CuPy to apply fast user-defined functions, prepping datasets for machine learning.\n",
    "\n",
    "**1-06_prep_graph.ipynb**: Use cuDF to prepare data for graph analytics.\n",
    "\n",
    "**1-07_dask-cudf.ipynb**: Transform large datasets spread across multiple GPUs with Dask and cuDF.\n",
    "\n",
    "**1-08_grid_converter_dask.ipynb**: Apply user-defined functions accross Dask cuDF partitions using multiple GPUs."
   ]
  }
 ],
 "metadata": {
  "kernelspec": {
   "display_name": "Python 3",
   "language": "python",
   "name": "python3"
  },
  "language_info": {
   "codemirror_mode": {
    "name": "ipython",
    "version": 3
   },
   "file_extension": ".py",
   "mimetype": "text/x-python",
   "name": "python",
   "nbconvert_exporter": "python",
   "pygments_lexer": "ipython3",
   "version": "3.6.7"
  }
 },
 "nbformat": 4,
 "nbformat_minor": 4
}
