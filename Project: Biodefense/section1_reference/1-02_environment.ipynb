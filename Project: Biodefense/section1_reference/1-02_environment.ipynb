{
 "cells": [
  {
   "cell_type": "markdown",
   "metadata": {},
   "source": [
    "# Your Interactive Coding Environment"
   ]
  },
  {
   "cell_type": "markdown",
   "metadata": {},
   "source": [
    "Before you begin programming, we would like to familiarize you with your interactive coding environment. This workshop utilizes the web-based coding interface [JupyterLab](https://jupyterlab.readthedocs.io/en/stable/) to execute code on a virtual machine backed by 4 [NVIDIA V100](https://www.nvidia.com/en-us/data-center/tesla-v100/) GPU accelerators. All necessary libraries have already been installed for you.\n",
    "\n",
    "Even if you're an experienced Jupyter user, be sure to read the *Jupyter Kernels* section which provides some specific instructions for managing Jupyter kernels during this workshop."
   ]
  },
  {
   "cell_type": "markdown",
   "metadata": {},
   "source": [
    "## Interactive Jupyter Code Cells"
   ]
  },
  {
   "cell_type": "markdown",
   "metadata": {},
   "source": [
    "Throughout the workshop are editable and executable cells which run Python code. Try editing and executing (shift+enter) the cell immediately below:"
   ]
  },
  {
   "cell_type": "code",
   "execution_count": null,
   "metadata": {},
   "outputs": [],
   "source": [
    "print('Welcome to accelerated data science.')"
   ]
  },
  {
   "cell_type": "markdown",
   "metadata": {},
   "source": [
    "## Jupyter Notebook Organization"
   ]
  },
  {
   "cell_type": "markdown",
   "metadata": {},
   "source": [
    "This workshop is broken into many small notebooks, each with numerical prefixes. You can view all the notebooks available to you in a section of the workshop by clicking on the folder-shaped icon along the left sidebar. Alternatively, if you can already see the files, clicking on this icon will hide them, which we highly recommend you do to give yourself more space while working on the materials."
   ]
  },
  {
   "cell_type": "markdown",
   "metadata": {},
   "source": [
    "![better view](images/better_view.png)"
   ]
  },
  {
   "cell_type": "markdown",
   "metadata": {},
   "source": [
    "## Available GPU Accelerators"
   ]
  },
  {
   "cell_type": "markdown",
   "metadata": {},
   "source": [
    "We can use these interactive cells to run shell commands by prefixing them with `!`. For example, execute the following cell to run the shell command `nvidia-smi`, which will print information about your environment's available GPUs, their current memory usage, and any processes currently utilizing them:"
   ]
  },
  {
   "cell_type": "code",
   "execution_count": null,
   "metadata": {},
   "outputs": [],
   "source": [
    "!nvidia-smi"
   ]
  },
  {
   "cell_type": "markdown",
   "metadata": {},
   "source": [
    "As you can see almost no GPU memory is being used right now, and, there are no active processes utilizing the GPUs. Throughout the lab you can use this command to keep an eye on memory usage. As a general rule of thumb when doing data analysis on the GPU, we try to keep about half the GPU memory free for operations which will expand the data stored on the GPU device."
   ]
  },
  {
   "cell_type": "markdown",
   "metadata": {},
   "source": [
    "## Magic Commands"
   ]
  },
  {
   "cell_type": "markdown",
   "metadata": {},
   "source": [
    "Jupyter coding environments come installed with *magic* commands, which can be recognized by the presence of `%` or `%%`. We will be using two magic commands liberally in this workshop:\n",
    "1. `%time` and `%%time` which will print summary information about how long it took to run code for a line or entire cell respectively.\n",
    "2. `%load` which will load the contents of a given file into the cell. We will be using this magic primarily to load example solutions for after you complete exercises.\n",
    "\n",
    "Execute the following three code cells to see how the magic commands work:"
   ]
  },
  {
   "cell_type": "markdown",
   "metadata": {},
   "source": [
    "### Magic Commands `%time` and `%%time`"
   ]
  },
  {
   "cell_type": "code",
   "execution_count": null,
   "metadata": {},
   "outputs": [],
   "source": [
    "from time import sleep\n",
    "\n",
    "%time sleep(2) # %time only times one line\n",
    "sleep(1)"
   ]
  },
  {
   "cell_type": "code",
   "execution_count": null,
   "metadata": {},
   "outputs": [],
   "source": [
    "%%time\n",
    "# %%time will time the entire cell\n",
    "\n",
    "sleep(1)\n",
    "sleep(1)"
   ]
  },
  {
   "cell_type": "markdown",
   "metadata": {},
   "source": [
    "### Magic Command `%load`"
   ]
  },
  {
   "cell_type": "markdown",
   "metadata": {},
   "source": [
    "Execute the cell below to use the `%load` magic command. Execute it a second time to run the code that gets loaded."
   ]
  },
  {
   "cell_type": "code",
   "execution_count": null,
   "metadata": {},
   "outputs": [],
   "source": [
    "%load solutions/load_solution"
   ]
  },
  {
   "cell_type": "markdown",
   "metadata": {},
   "source": [
    "## Jupyter Kernels"
   ]
  },
  {
   "cell_type": "markdown",
   "metadata": {},
   "source": [
    "The compute backend for Jupyter (as opposed to this web front-end you are viewing) is called the *kernel*. You can see the name for the current kernel being used by this Jupyter notebook front end:"
   ]
  },
  {
   "cell_type": "markdown",
   "metadata": {},
   "source": [
    "![kernel name](images/kernel_name.png)"
   ]
  },
  {
   "cell_type": "markdown",
   "metadata": {},
   "source": [
    "### Managing Kernels in This Workshop"
   ]
  },
  {
   "cell_type": "markdown",
   "metadata": {},
   "source": [
    "This workshop consists of several smallish notebooks, each intended to stand alone with regard to memory and computation. However, the Jupyter environment starts up a separate kernel for each new notebook which means:\n",
    "\n",
    "1. Notebooks other than the one you are working on may still have memory allocated for *their unique kernel*\n",
    "2. Restarting the kernel from the *Kernel* menu will only clear the memory for *your current notebook's kernel*"
   ]
  },
  {
   "cell_type": "markdown",
   "metadata": {},
   "source": [
    "#### Best Practice: Restart the kernel at the end of every notebook"
   ]
  },
  {
   "cell_type": "markdown",
   "metadata": {},
   "source": [
    "Be sure, at the **end** of every notebook, to clear memory from its unique kernel. You can do this either by restarting the kernel using the *Kernel Menu*..."
   ]
  },
  {
   "cell_type": "markdown",
   "metadata": {},
   "source": [
    "![kernel menu](images/kernel_menu.png)"
   ]
  },
  {
   "cell_type": "markdown",
   "metadata": {},
   "source": [
    "...or by executing provided code cells that will shutdown the kernel. When you click the following cell you will see a popup indicating the kernel has restarted."
   ]
  },
  {
   "cell_type": "code",
   "execution_count": null,
   "metadata": {},
   "outputs": [],
   "source": [
    "import IPython\n",
    "app = IPython.Application.instance()\n",
    "app.kernel.do_shutdown(True)"
   ]
  },
  {
   "cell_type": "markdown",
   "metadata": {},
   "source": [
    "It's unlikely you'll need to restart the kernel for any other reason than to clean GPU memory, but if needed, you can use these same methods to restart a notebook's kernel at any time."
   ]
  },
  {
   "cell_type": "markdown",
   "metadata": {},
   "source": [
    "#### Best Practice: Fix Out of Memory Errors"
   ]
  },
  {
   "cell_type": "markdown",
   "metadata": {},
   "source": [
    "If you should ever forget to restart the kernel for a notebook before you leave it, you might unexpectedly run out of GPU memory in ensuing notebooks, which were intended to have clear memory before beginning.\n",
    "\n",
    "**Any time you run out of GPU memory:**\n",
    "\n",
    "1. Use `nvidia-smi` to observe whether there is memory allocated on the GPU(s)\n",
    "2. Look for notebooks with active kernels in the *File Browser*"
   ]
  },
  {
   "cell_type": "markdown",
   "metadata": {},
   "source": [
    "![view active kernels](images/active_kernel_files.png)"
   ]
  },
  {
   "cell_type": "markdown",
   "metadata": {},
   "source": [
    "3. Shutdown active kernels via the *Running Terminals and Kernels* menu"
   ]
  },
  {
   "cell_type": "markdown",
   "metadata": {},
   "source": [
    "![running_kernels](images/running_kernels.png)"
   ]
  },
  {
   "cell_type": "markdown",
   "metadata": {},
   "source": [
    "## Terminals"
   ]
  },
  {
   "cell_type": "markdown",
   "metadata": {},
   "source": [
    "Begin typing `terminal` into *Commands* to open a new terminal where you can do pretty much anything you would from a `bash` shell. Here's an example of running `nvidia-smi` every second to keep an eye on GPU memory:"
   ]
  },
  {
   "cell_type": "markdown",
   "metadata": {},
   "source": [
    "![watch gpu](images/watch_gpu.png)"
   ]
  },
  {
   "cell_type": "markdown",
   "metadata": {},
   "source": [
    "## Reminder: Restart the Kernel at the End of Notebooks"
   ]
  },
  {
   "cell_type": "markdown",
   "metadata": {},
   "source": [
    "There are many small notebooks that you will be working through in this workshop, and our intent is for you to start with clean GPU memory and namespace for each kernel. With that in mind, we will ask you to **restart the kernel at the end of every notebook**, to clear the stage for the next.\n",
    "\n",
    "Although you have not done any computing yet, use the *Kernel* menu now to restart the kernel before proceeding to the next notebook, just to get in the habit."
   ]
  },
  {
   "cell_type": "markdown",
   "metadata": {},
   "source": [
    "## Next"
   ]
  },
  {
   "cell_type": "markdown",
   "metadata": {},
   "source": [
    "Now that you are familiar with your coding environment, it's time to get to work. Open the next notebook where you will begin with a gentle introduction to cuDF, the GPU accelerated dataframe library."
   ]
  }
 ],
 "metadata": {
  "kernelspec": {
   "display_name": "Python 3",
   "language": "python",
   "name": "python3"
  },
  "language_info": {
   "codemirror_mode": {
    "name": "ipython",
    "version": 3
   },
   "file_extension": ".py",
   "mimetype": "text/x-python",
   "name": "python",
   "nbconvert_exporter": "python",
   "pygments_lexer": "ipython3",
   "version": "3.6.7"
  }
 },
 "nbformat": 4,
 "nbformat_minor": 4
}
