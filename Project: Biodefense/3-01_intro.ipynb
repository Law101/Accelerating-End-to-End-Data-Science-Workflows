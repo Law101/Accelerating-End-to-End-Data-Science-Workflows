{
 "cells": [
  {
   "cell_type": "markdown",
   "metadata": {},
   "source": [
    "<div align=\"center\"><img src=\"./images/DLI_Header.png\"></div>"
   ]
  },
  {
   "cell_type": "markdown",
   "metadata": {},
   "source": [
    "# Project: Biodefense"
   ]
  },
  {
   "cell_type": "markdown",
   "metadata": {},
   "source": [
    "In this section of the workshop you will put together all the techniques you have learned to perform several data analysis tasks in support of stopping a simulated epidemic affecting the United Kingdom."
   ]
  },
  {
   "cell_type": "markdown",
   "metadata": {},
   "source": [
    "## Presentation"
   ]
  },
  {
   "cell_type": "markdown",
   "metadata": {},
   "source": [
    "Please execute the cell below to watch the instructor presentation before proceeding with the rest of the notebook. Note, you may have already watched this video while waiting for the GPU environment to load, in which case you can proceed with the rest of the notebook."
   ]
  },
  {
   "cell_type": "code",
   "execution_count": null,
   "metadata": {},
   "outputs": [],
   "source": [
    "%%html\n",
    "<video width=\"800\" controls>\n",
    "  <source src=\"https://dli-lms.s3.us-east-1.amazonaws.com/assets/s-ds-01-v1/03_01.mp4\" type=\"video/mp4\">\n",
    "</video>"
   ]
  },
  {
   "cell_type": "markdown",
   "metadata": {},
   "source": [
    "## Section 3 Table of Contents"
   ]
  },
  {
   "cell_type": "markdown",
   "metadata": {},
   "source": [
    "**3-01_intro.ipynb**: This notebook.\n",
    "\n",
    "**3-02_find_infected.ipynb**: Week 1: Find geographic clusters of infected people.\n",
    "\n",
    "**3-03_nearest_facilities.ipynb**: Week 2: Locate the nearest health facilities for infected people.\n",
    "\n",
    "**3-04_identify_risk_factors.ipynb**: Week 3: Identify risk factors for infection.\n",
    "\n",
    "**3-05_course_conclusion.ipynb**: Conclude course, take survey, get access to RAPIDS container.\n",
    "\n",
    "**section1_reference**: All the Section 1 notebooks, for your reference, if needed.\n",
    "\n",
    "**section2_reference**: All the Section 2 notebooks, for your reference, if needed."
   ]
  },
  {
   "cell_type": "markdown",
   "metadata": {},
   "source": [
    "## Next"
   ]
  },
  {
   "cell_type": "markdown",
   "metadata": {},
   "source": [
    "Please proceed to the [next notebook](3-02_find_infected.ipynb)."
   ]
  }
 ],
 "metadata": {
  "kernelspec": {
   "display_name": "Python 3",
   "language": "python",
   "name": "python3"
  },
  "language_info": {
   "codemirror_mode": {
    "name": "ipython",
    "version": 3
   },
   "file_extension": ".py",
   "mimetype": "text/x-python",
   "name": "python",
   "nbconvert_exporter": "python",
   "pygments_lexer": "ipython3",
   "version": "3.7.8"
  }
 },
 "nbformat": 4,
 "nbformat_minor": 4
}
